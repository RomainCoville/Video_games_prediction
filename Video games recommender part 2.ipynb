{
 "cells": [
  {
   "cell_type": "markdown",
   "metadata": {},
   "source": [
    "# Video games recommender system | part 2 \n",
    "based on steam sales datasets : \n",
    "- https://cseweb.ucsd.edu/~jmcauley/datasets.html#steam_data) gathered by [Insert teacher names]\n",
    "- https://www.kaggle.com/nikdavis/steam-store-games\n",
    "\n",
    "In this notebook we'll try to build a video games recommender system based on a steam sales dataset. In order to do so we'll use different techniques to recommend as precisely as possible a game to a user.\n",
    "\n",
    "This notebook will focus on the modeling part of the project."
   ]
  },
  {
   "cell_type": "markdown",
   "metadata": {},
   "source": [
    "____"
   ]
  },
  {
   "cell_type": "markdown",
   "metadata": {},
   "source": [
    "## Imports"
   ]
  },
  {
   "cell_type": "code",
   "execution_count": 118,
   "metadata": {},
   "outputs": [
    {
     "name": "stdout",
     "output_type": "stream",
     "text": [
      "The autoreload extension is already loaded. To reload it, use:\n",
      "  %reload_ext autoreload\n"
     ]
    }
   ],
   "source": [
    "#Data manipulation\n",
    "import pandas as pd\n",
    "import numpy as np\n",
    "import string\n",
    "import re\n",
    "from collections import defaultdict\n",
    "\n",
    "#Modeling \n",
    "from sklearn.model_selection import train_test_split\n",
    "from sklearn.metrics import classification_report\n",
    "from sklearn.decomposition import PCA\n",
    "from sklearn.model_selection import RandomizedSearchCV\n",
    "from sklearn.metrics import jaccard_score\n",
    "\n",
    "#File manipulation\n",
    "import os\n",
    "import gzip\n",
    "import ast\n",
    "\n",
    "#DataViz\n",
    "import plotly.express as px\n",
    "import matplotlib.pyplot as plt\n",
    "import cufflinks as cf\n",
    "%matplotlib inline\n",
    "\n",
    "#Helper functions\n",
    "%load_ext autoreload\n",
    "%autoreload 2\n",
    "import helper"
   ]
  },
  {
   "cell_type": "markdown",
   "metadata": {},
   "source": [
    "## Load dataset"
   ]
  },
  {
   "cell_type": "code",
   "execution_count": 2,
   "metadata": {},
   "outputs": [],
   "source": [
    "df = pd.read_pickle('data/final_df.pckl')"
   ]
  },
  {
   "cell_type": "markdown",
   "metadata": {},
   "source": [
    "## Features"
   ]
  },
  {
   "cell_type": "markdown",
   "metadata": {},
   "source": [
    "The goal of the recommending system is to recommend a new game to a user based on his played games and other relation such as similar users. \n",
    "\n",
    "This concept can be approximated by a binary classification task which will classify user and games pairs in two category : \n",
    "- $1$ the user is gonna play the game.\n",
    "- $2$ the user isn't gonna play the game.\n",
    "\n",
    "SO let's add a column **play** to the data frame."
   ]
  },
  {
   "cell_type": "code",
   "execution_count": 5,
   "metadata": {},
   "outputs": [],
   "source": [
    "# 1 if the player ever played the game (playtime > 0), 0 otherwise\n",
    "df['play'] = df['playtime_forever'].apply(lambda x : 1 if (x > 0) else 0)"
   ]
  },
  {
   "cell_type": "markdown",
   "metadata": {},
   "source": [
    "As we can see, the dataset is pretty big and with a high dimension. This can be a problem in term of calculation time for our model. We might have to use dimensionality reduction techniques to address this.\n",
    "Two techniques  :\n",
    "- PCA to reduce the number of features\n",
    "- Clustering methods (Kmeans, GMM, ...) to apply model within a cluster."
   ]
  },
  {
   "cell_type": "code",
   "execution_count": 8,
   "metadata": {},
   "outputs": [
    {
     "data": {
      "text/plain": [
       "(4020731, 76)"
      ]
     },
     "execution_count": 8,
     "metadata": {},
     "output_type": "execute_result"
    }
   ],
   "source": [
    "df.shape"
   ]
  },
  {
   "cell_type": "markdown",
   "metadata": {},
   "source": [
    "### Sets"
   ]
  },
  {
   "cell_type": "code",
   "execution_count": 42,
   "metadata": {},
   "outputs": [],
   "source": [
    "df.loc[:,'release_date'] = df['release_date'].apply(lambda x : x.year)"
   ]
  },
  {
   "cell_type": "code",
   "execution_count": 156,
   "metadata": {},
   "outputs": [],
   "source": [
    "X = df.drop(['item_id','user_id','item_name','categories','genres'],axis = 1).iloc[:,:-1]\n",
    "y = df.drop(['item_id','user_id','item_name','categories','genres'],axis = 1).iloc[:,-1]"
   ]
  },
  {
   "cell_type": "markdown",
   "metadata": {},
   "source": [
    "Time to create the train, validation and test set. They will be divided as such : \n",
    "- Train = 60%\n",
    "- Validation = 20%\n",
    "- Test = 20%"
   ]
  },
  {
   "cell_type": "code",
   "execution_count": 157,
   "metadata": {},
   "outputs": [],
   "source": [
    "X_train, X_test, y_train, y_test = train_test_split(X, y, test_size=0.20, random_state=42)"
   ]
  },
  {
   "cell_type": "code",
   "execution_count": 158,
   "metadata": {},
   "outputs": [],
   "source": [
    "X_train, X_val, y_train, y_val = train_test_split(X_train,y_train,test_size = 0.25 ,random_state = 42)"
   ]
  },
  {
   "cell_type": "code",
   "execution_count": 159,
   "metadata": {},
   "outputs": [
    {
     "data": {
      "text/plain": [
       "((2412438, 70), (804146, 70), (804147, 70))"
      ]
     },
     "execution_count": 159,
     "metadata": {},
     "output_type": "execute_result"
    }
   ],
   "source": [
    "X_train.shape,X_val.shape,X_test.shape"
   ]
  },
  {
   "cell_type": "code",
   "execution_count": 177,
   "metadata": {},
   "outputs": [
    {
     "data": {
      "text/html": [
       "<div>\n",
       "<style scoped>\n",
       "    .dataframe tbody tr th:only-of-type {\n",
       "        vertical-align: middle;\n",
       "    }\n",
       "\n",
       "    .dataframe tbody tr th {\n",
       "        vertical-align: top;\n",
       "    }\n",
       "\n",
       "    .dataframe thead th {\n",
       "        text-align: right;\n",
       "    }\n",
       "</style>\n",
       "<table border=\"1\" class=\"dataframe\">\n",
       "  <thead>\n",
       "    <tr style=\"text-align: right;\">\n",
       "      <th></th>\n",
       "      <th>playtime_forever</th>\n",
       "      <th>playtime_2weeks</th>\n",
       "      <th>release_date</th>\n",
       "      <th>price</th>\n",
       "      <th>Online Multi-Player</th>\n",
       "      <th>Captions available</th>\n",
       "      <th>MMO</th>\n",
       "      <th>Stats</th>\n",
       "      <th>Online Co-op</th>\n",
       "      <th>Windows Mixed Reality</th>\n",
       "      <th>...</th>\n",
       "      <th>Sexual Content</th>\n",
       "      <th>Sports</th>\n",
       "      <th>Animation &amp; Modeling</th>\n",
       "      <th>Simulation</th>\n",
       "      <th>Software Training</th>\n",
       "      <th>Indie</th>\n",
       "      <th>Action</th>\n",
       "      <th>Video Production</th>\n",
       "      <th>Early Access</th>\n",
       "      <th>Web Publishing</th>\n",
       "    </tr>\n",
       "  </thead>\n",
       "  <tbody>\n",
       "    <tr>\n",
       "      <th>909261</th>\n",
       "      <td>0.900000</td>\n",
       "      <td>0.0</td>\n",
       "      <td>2012</td>\n",
       "      <td>14.99</td>\n",
       "      <td>0</td>\n",
       "      <td>0</td>\n",
       "      <td>0</td>\n",
       "      <td>0</td>\n",
       "      <td>0</td>\n",
       "      <td>0</td>\n",
       "      <td>...</td>\n",
       "      <td>0</td>\n",
       "      <td>0</td>\n",
       "      <td>0</td>\n",
       "      <td>0</td>\n",
       "      <td>0</td>\n",
       "      <td>1</td>\n",
       "      <td>1</td>\n",
       "      <td>0</td>\n",
       "      <td>0</td>\n",
       "      <td>0</td>\n",
       "    </tr>\n",
       "    <tr>\n",
       "      <th>2032823</th>\n",
       "      <td>0.816667</td>\n",
       "      <td>0.0</td>\n",
       "      <td>2006</td>\n",
       "      <td>24.99</td>\n",
       "      <td>0</td>\n",
       "      <td>0</td>\n",
       "      <td>0</td>\n",
       "      <td>0</td>\n",
       "      <td>0</td>\n",
       "      <td>0</td>\n",
       "      <td>...</td>\n",
       "      <td>0</td>\n",
       "      <td>0</td>\n",
       "      <td>0</td>\n",
       "      <td>1</td>\n",
       "      <td>0</td>\n",
       "      <td>0</td>\n",
       "      <td>0</td>\n",
       "      <td>0</td>\n",
       "      <td>0</td>\n",
       "      <td>0</td>\n",
       "    </tr>\n",
       "    <tr>\n",
       "      <th>319315</th>\n",
       "      <td>3.566667</td>\n",
       "      <td>0.0</td>\n",
       "      <td>1997</td>\n",
       "      <td>2.99</td>\n",
       "      <td>0</td>\n",
       "      <td>0</td>\n",
       "      <td>0</td>\n",
       "      <td>0</td>\n",
       "      <td>0</td>\n",
       "      <td>0</td>\n",
       "      <td>...</td>\n",
       "      <td>0</td>\n",
       "      <td>0</td>\n",
       "      <td>0</td>\n",
       "      <td>0</td>\n",
       "      <td>0</td>\n",
       "      <td>0</td>\n",
       "      <td>0</td>\n",
       "      <td>0</td>\n",
       "      <td>0</td>\n",
       "      <td>0</td>\n",
       "    </tr>\n",
       "    <tr>\n",
       "      <th>711759</th>\n",
       "      <td>0.583333</td>\n",
       "      <td>0.0</td>\n",
       "      <td>2009</td>\n",
       "      <td>12.99</td>\n",
       "      <td>0</td>\n",
       "      <td>1</td>\n",
       "      <td>0</td>\n",
       "      <td>0</td>\n",
       "      <td>0</td>\n",
       "      <td>0</td>\n",
       "      <td>...</td>\n",
       "      <td>0</td>\n",
       "      <td>0</td>\n",
       "      <td>0</td>\n",
       "      <td>1</td>\n",
       "      <td>0</td>\n",
       "      <td>0</td>\n",
       "      <td>1</td>\n",
       "      <td>0</td>\n",
       "      <td>0</td>\n",
       "      <td>0</td>\n",
       "    </tr>\n",
       "    <tr>\n",
       "      <th>897700</th>\n",
       "      <td>2.116667</td>\n",
       "      <td>0.0</td>\n",
       "      <td>2003</td>\n",
       "      <td>4.99</td>\n",
       "      <td>0</td>\n",
       "      <td>0</td>\n",
       "      <td>0</td>\n",
       "      <td>0</td>\n",
       "      <td>0</td>\n",
       "      <td>0</td>\n",
       "      <td>...</td>\n",
       "      <td>0</td>\n",
       "      <td>0</td>\n",
       "      <td>0</td>\n",
       "      <td>0</td>\n",
       "      <td>0</td>\n",
       "      <td>0</td>\n",
       "      <td>0</td>\n",
       "      <td>0</td>\n",
       "      <td>0</td>\n",
       "      <td>0</td>\n",
       "    </tr>\n",
       "  </tbody>\n",
       "</table>\n",
       "<p>5 rows × 70 columns</p>\n",
       "</div>"
      ],
      "text/plain": [
       "         playtime_forever  playtime_2weeks  release_date  price  \\\n",
       "909261           0.900000              0.0          2012  14.99   \n",
       "2032823          0.816667              0.0          2006  24.99   \n",
       "319315           3.566667              0.0          1997   2.99   \n",
       "711759           0.583333              0.0          2009  12.99   \n",
       "897700           2.116667              0.0          2003   4.99   \n",
       "\n",
       "         Online Multi-Player  Captions available  MMO  Stats  Online Co-op  \\\n",
       "909261                     0                   0    0      0             0   \n",
       "2032823                    0                   0    0      0             0   \n",
       "319315                     0                   0    0      0             0   \n",
       "711759                     0                   1    0      0             0   \n",
       "897700                     0                   0    0      0             0   \n",
       "\n",
       "         Windows Mixed Reality       ...        Sexual Content  Sports  \\\n",
       "909261                       0       ...                     0       0   \n",
       "2032823                      0       ...                     0       0   \n",
       "319315                       0       ...                     0       0   \n",
       "711759                       0       ...                     0       0   \n",
       "897700                       0       ...                     0       0   \n",
       "\n",
       "         Animation & Modeling  Simulation  Software Training  Indie  Action  \\\n",
       "909261                      0           0                  0      1       1   \n",
       "2032823                     0           1                  0      0       0   \n",
       "319315                      0           0                  0      0       0   \n",
       "711759                      0           1                  0      0       1   \n",
       "897700                      0           0                  0      0       0   \n",
       "\n",
       "         Video Production  Early Access  Web Publishing  \n",
       "909261                  0             0               0  \n",
       "2032823                 0             0               0  \n",
       "319315                  0             0               0  \n",
       "711759                  0             0               0  \n",
       "897700                  0             0               0  \n",
       "\n",
       "[5 rows x 70 columns]"
      ]
     },
     "execution_count": 177,
     "metadata": {},
     "output_type": "execute_result"
    }
   ],
   "source": [
    "X_train.head()"
   ]
  },
  {
   "cell_type": "markdown",
   "metadata": {},
   "source": [
    "## Logistic classification"
   ]
  },
  {
   "cell_type": "markdown",
   "metadata": {},
   "source": [
    "### Standardization"
   ]
  },
  {
   "cell_type": "markdown",
   "metadata": {},
   "source": [
    "First let's not forget to standardized the features."
   ]
  },
  {
   "cell_type": "code",
   "execution_count": 160,
   "metadata": {},
   "outputs": [],
   "source": [
    "from sklearn.preprocessing import StandardScaler"
   ]
  },
  {
   "cell_type": "code",
   "execution_count": 161,
   "metadata": {},
   "outputs": [],
   "source": [
    "scaler = StandardScaler()"
   ]
  },
  {
   "cell_type": "code",
   "execution_count": 162,
   "metadata": {},
   "outputs": [],
   "source": [
    "log_X_train = pd.DataFrame(scaler.fit_transform(X_train))"
   ]
  },
  {
   "cell_type": "code",
   "execution_count": 163,
   "metadata": {},
   "outputs": [],
   "source": [
    "log_X_val = pd.DataFrame(scaler.transform(X_val))\n",
    "log_X_test = pd.DataFrame(scaler.transform(X_test))"
   ]
  },
  {
   "cell_type": "markdown",
   "metadata": {},
   "source": [
    "____"
   ]
  },
  {
   "cell_type": "markdown",
   "metadata": {},
   "source": [
    "### Logistic regression with full features"
   ]
  },
  {
   "cell_type": "code",
   "execution_count": 37,
   "metadata": {},
   "outputs": [],
   "source": [
    "from sklearn.linear_model import LogisticRegression"
   ]
  },
  {
   "cell_type": "code",
   "execution_count": 190,
   "metadata": {},
   "outputs": [],
   "source": [
    "clf = LogisticRegression(solver = 'sag')"
   ]
  },
  {
   "cell_type": "code",
   "execution_count": 191,
   "metadata": {},
   "outputs": [
    {
     "name": "stdout",
     "output_type": "stream",
     "text": [
      "CPU times: user 5min 41s, sys: 3.78 s, total: 5min 45s\n",
      "Wall time: 5min 48s\n"
     ]
    },
    {
     "name": "stderr",
     "output_type": "stream",
     "text": [
      "/usr/local/lib/python3.7/site-packages/sklearn/linear_model/sag.py:337: ConvergenceWarning:\n",
      "\n",
      "The max_iter was reached which means the coef_ did not converge\n",
      "\n"
     ]
    },
    {
     "data": {
      "text/plain": [
       "LogisticRegression(C=1.0, class_weight=None, dual=False, fit_intercept=True,\n",
       "                   intercept_scaling=1, l1_ratio=None, max_iter=100,\n",
       "                   multi_class='warn', n_jobs=None, penalty='l2',\n",
       "                   random_state=None, solver='sag', tol=0.0001, verbose=0,\n",
       "                   warm_start=False)"
      ]
     },
     "execution_count": 191,
     "metadata": {},
     "output_type": "execute_result"
    }
   ],
   "source": [
    "%time clf.fit(log_X_train,y_train)"
   ]
  },
  {
   "cell_type": "code",
   "execution_count": 192,
   "metadata": {},
   "outputs": [
    {
     "name": "stdout",
     "output_type": "stream",
     "text": [
      "CPU times: user 227 ms, sys: 496 ms, total: 724 ms\n",
      "Wall time: 1.04 s\n"
     ]
    }
   ],
   "source": [
    "%time log_y_pred = clf.predict(log_X_val)"
   ]
  },
  {
   "cell_type": "code",
   "execution_count": 193,
   "metadata": {},
   "outputs": [
    {
     "name": "stdout",
     "output_type": "stream",
     "text": [
      "              precision    recall  f1-score   support\n",
      "\n",
      "           0       0.75      0.85      0.80    258884\n",
      "           1       0.93      0.87      0.90    545262\n",
      "\n",
      "    accuracy                           0.86    804146\n",
      "   macro avg       0.84      0.86      0.85    804146\n",
      "weighted avg       0.87      0.86      0.87    804146\n",
      "\n"
     ]
    }
   ],
   "source": [
    "print(classification_report(y_val, log_y_pred))"
   ]
  },
  {
   "cell_type": "code",
   "execution_count": 179,
   "metadata": {},
   "outputs": [
    {
     "data": {
      "text/plain": [
       "array([[ 5.17326840e+01,  4.58005007e+00,  4.81565898e-02,\n",
       "         1.97156282e-02,  5.32657434e-02,  6.70556655e-02,\n",
       "         1.30172876e-01,  1.51344043e-02, -3.34577651e-02,\n",
       "        -1.06795848e-02,  1.01173358e-01, -2.68965648e-04,\n",
       "         5.25429199e-02, -3.75249577e-02, -1.58750724e-02,\n",
       "         1.08036239e-01,  2.55197337e-02,  1.11671317e-02,\n",
       "         5.07441951e-02, -1.26309231e-02,  1.70050113e-02,\n",
       "         1.33865039e-03, -1.09216588e-02,  2.13146527e-02,\n",
       "         6.34486233e-03,  5.35108697e-02,  7.28101319e-02,\n",
       "         7.54323617e-02,  1.21207072e-01, -2.38505012e-03,\n",
       "         2.38942951e-02, -6.43479705e-02,  3.06670654e-02,\n",
       "        -3.38526748e-02, -1.85098055e-02,  4.30527968e-02,\n",
       "        -2.83162114e-02, -3.59189538e-02,  0.00000000e+00,\n",
       "        -2.59630745e-02, -2.27462089e-02, -4.09523838e-03,\n",
       "         1.06338682e-02, -6.24177033e-02,  3.51267624e-02,\n",
       "        -4.19095718e-02,  0.00000000e+00, -3.58949984e-02,\n",
       "        -1.42425240e-01,  1.36076011e-01,  1.52123355e-03,\n",
       "        -1.27554361e-02, -1.02456632e-02, -1.03438574e-02,\n",
       "         8.89331838e-03, -1.67702079e-03, -6.27826040e-02,\n",
       "        -9.63831060e-04,  3.22905386e-02, -1.88355544e-02,\n",
       "        -1.09875193e-03,  1.26102959e-05,  0.00000000e+00,\n",
       "         1.49712130e-01,  1.90585184e-02,  1.22012534e-01,\n",
       "         1.73058323e-02,  2.51198920e-02,  4.66360693e-02,\n",
       "         1.57308038e-02]])"
      ]
     },
     "execution_count": 179,
     "metadata": {},
     "output_type": "execute_result"
    }
   ],
   "source": [
    "clf.coef_"
   ]
  },
  {
   "cell_type": "markdown",
   "metadata": {},
   "source": [
    "### Logistic regression with selected features"
   ]
  },
  {
   "cell_type": "code",
   "execution_count": null,
   "metadata": {},
   "outputs": [],
   "source": []
  },
  {
   "cell_type": "code",
   "execution_count": 194,
   "metadata": {
    "scrolled": true
   },
   "outputs": [],
   "source": [
    "clf_ = LogisticRegression(solver = 'sag')"
   ]
  },
  {
   "cell_type": "code",
   "execution_count": 173,
   "metadata": {},
   "outputs": [
    {
     "name": "stdout",
     "output_type": "stream",
     "text": [
      "CPU times: user 1min 53s, sys: 438 ms, total: 1min 54s\n",
      "Wall time: 1min 54s\n"
     ]
    },
    {
     "name": "stderr",
     "output_type": "stream",
     "text": [
      "/usr/local/lib/python3.7/site-packages/sklearn/linear_model/sag.py:337: ConvergenceWarning:\n",
      "\n",
      "The max_iter was reached which means the coef_ did not converge\n",
      "\n"
     ]
    },
    {
     "data": {
      "text/plain": [
       "LogisticRegression(C=1.0, class_weight=None, dual=False, fit_intercept=True,\n",
       "                   intercept_scaling=1, l1_ratio=None, max_iter=100,\n",
       "                   multi_class='warn', n_jobs=None, penalty='l2',\n",
       "                   random_state=None, solver='saga', tol=0.0001, verbose=0,\n",
       "                   warm_start=False)"
      ]
     },
     "execution_count": 173,
     "metadata": {},
     "output_type": "execute_result"
    }
   ],
   "source": [
    "%time clf_.fit(log_X_train.loc[:,0:3],y_train)"
   ]
  },
  {
   "cell_type": "code",
   "execution_count": 175,
   "metadata": {},
   "outputs": [],
   "source": [
    "log_y_pred_ = clf_.predict(log_X_val.loc[:,0:4])"
   ]
  },
  {
   "cell_type": "code",
   "execution_count": 176,
   "metadata": {},
   "outputs": [
    {
     "name": "stdout",
     "output_type": "stream",
     "text": [
      "              precision    recall  f1-score   support\n",
      "\n",
      "           0       0.76      0.91      0.83    258884\n",
      "           1       0.95      0.86      0.90    545262\n",
      "\n",
      "    accuracy                           0.88    804146\n",
      "   macro avg       0.85      0.88      0.86    804146\n",
      "weighted avg       0.89      0.88      0.88    804146\n",
      "\n"
     ]
    }
   ],
   "source": [
    "print(classification_report(y_val, log_y_pred_))"
   ]
  },
  {
   "cell_type": "code",
   "execution_count": 180,
   "metadata": {},
   "outputs": [
    {
     "data": {
      "text/plain": [
       "array([[ 5.84835115e+01,  5.03278027e+00,  2.23423779e-01,\n",
       "        -1.53118480e-02,  1.13019500e-01,  8.69659835e-02]])"
      ]
     },
     "execution_count": 180,
     "metadata": {},
     "output_type": "execute_result"
    }
   ],
   "source": [
    "clf_.coef_"
   ]
  },
  {
   "cell_type": "code",
   "execution_count": null,
   "metadata": {},
   "outputs": [],
   "source": []
  },
  {
   "cell_type": "code",
   "execution_count": null,
   "metadata": {},
   "outputs": [],
   "source": [
    "clf_.fit(log_X_train.loc[:,0:3],y_train)"
   ]
  },
  {
   "cell_type": "code",
   "execution_count": null,
   "metadata": {},
   "outputs": [],
   "source": [
    "log_y_pred_ = clf_.predict(log_X_val.loc[:,0:3])"
   ]
  },
  {
   "cell_type": "code",
   "execution_count": null,
   "metadata": {},
   "outputs": [],
   "source": [
    "print(classification_report(y_val, log_y_pred_))"
   ]
  },
  {
   "cell_type": "code",
   "execution_count": 186,
   "metadata": {},
   "outputs": [
    {
     "data": {
      "text/plain": [
       "array([[ 5.88020667e+01,  5.09077482e+00,  2.40717329e-01,\n",
       "        -2.69212074e-02]])"
      ]
     },
     "execution_count": 186,
     "metadata": {},
     "output_type": "execute_result"
    }
   ],
   "source": [
    "clf_.coef_"
   ]
  },
  {
   "cell_type": "code",
   "execution_count": 187,
   "metadata": {},
   "outputs": [],
   "source": [
    "y_test_pred = clf_.predict(log_X_test.loc[:,0:3])"
   ]
  },
  {
   "cell_type": "code",
   "execution_count": 189,
   "metadata": {},
   "outputs": [
    {
     "name": "stdout",
     "output_type": "stream",
     "text": [
      "              precision    recall  f1-score   support\n",
      "\n",
      "           0       0.77      0.86      0.81    258642\n",
      "           1       0.93      0.88      0.90    545505\n",
      "\n",
      "    accuracy                           0.87    804147\n",
      "   macro avg       0.85      0.87      0.86    804147\n",
      "weighted avg       0.88      0.87      0.87    804147\n",
      "\n"
     ]
    }
   ],
   "source": [
    "print(classification_report(y_test, y_test_pred))"
   ]
  }
 ],
 "metadata": {
  "kernelspec": {
   "display_name": "Python 3",
   "language": "python",
   "name": "python3"
  },
  "language_info": {
   "codemirror_mode": {
    "name": "ipython",
    "version": 3
   },
   "file_extension": ".py",
   "mimetype": "text/x-python",
   "name": "python",
   "nbconvert_exporter": "python",
   "pygments_lexer": "ipython3",
   "version": "3.7.4"
  },
  "toc": {
   "base_numbering": 1,
   "nav_menu": {},
   "number_sections": true,
   "sideBar": true,
   "skip_h1_title": false,
   "title_cell": "Table of Contents",
   "title_sidebar": "Contents",
   "toc_cell": false,
   "toc_position": {},
   "toc_section_display": true,
   "toc_window_display": false
  },
  "varInspector": {
   "cols": {
    "lenName": 16,
    "lenType": 16,
    "lenVar": 40
   },
   "kernels_config": {
    "python": {
     "delete_cmd_postfix": "",
     "delete_cmd_prefix": "del ",
     "library": "var_list.py",
     "varRefreshCmd": "print(var_dic_list())"
    },
    "r": {
     "delete_cmd_postfix": ") ",
     "delete_cmd_prefix": "rm(",
     "library": "var_list.r",
     "varRefreshCmd": "cat(var_dic_list()) "
    }
   },
   "types_to_exclude": [
    "module",
    "function",
    "builtin_function_or_method",
    "instance",
    "_Feature"
   ],
   "window_display": false
  }
 },
 "nbformat": 4,
 "nbformat_minor": 2
}
